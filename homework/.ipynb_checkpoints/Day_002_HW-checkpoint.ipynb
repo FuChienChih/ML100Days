{
 "cells": [
  {
   "cell_type": "markdown",
   "metadata": {},
   "source": [
    "## [作業目標]\n",
    "了解機器學習適合應用的領域與範疇。"
   ]
  },
  {
   "cell_type": "markdown",
   "metadata": {},
   "source": [
    "## [作業重點]\n",
    "透過瞭解機器學習的運作方式，找出非常適用機器學習應用的領域及其原因"
   ]
  },
  {
   "cell_type": "markdown",
   "metadata": {},
   "source": [
    "## 作業\n",
    "請找出一個你認為機器學習可以發光發熱的領域並闡述原因? "
   ]
  },
  {
   "cell_type": "markdown",
   "metadata": {},
   "source": [
    "# ANS:"
   ]
  },
  {
   "cell_type": "markdown",
   "metadata": {},
   "source": [
    "『短片影音平台』，如youtube。\n",
    "\n",
    "在YouTube上有超過13.2億的使用者，每天的影片瀏覽量高達49.5億。而上傳者會將每部影片加入標籤，如教育,運動,音樂,美食...且使用者的每次點擊，觀看時間也全都會紀錄。\n",
    "\n",
    "在符合dataset龐大，且都有標籤的情況下。youtube還具備適合機器學習的四種特點：處理複雜的邏輯,大規模的服務,需要客製化和隨時間改變。\n",
    "因此我認為機器學習能在短片影音平台發光發熱。"
   ]
  },
  {
   "cell_type": "code",
   "execution_count": null,
   "metadata": {},
   "outputs": [],
   "source": []
  }
 ],
 "metadata": {
  "kernelspec": {
   "display_name": "Python 3",
   "language": "python",
   "name": "python3"
  },
  "language_info": {
   "codemirror_mode": {
    "name": "ipython",
    "version": 3
   },
   "file_extension": ".py",
   "mimetype": "text/x-python",
   "name": "python",
   "nbconvert_exporter": "python",
   "pygments_lexer": "ipython3",
   "version": "3.7.4"
  }
 },
 "nbformat": 4,
 "nbformat_minor": 2
}
